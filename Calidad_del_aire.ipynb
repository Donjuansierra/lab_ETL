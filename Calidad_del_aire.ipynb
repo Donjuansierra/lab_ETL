{
  "nbformat": 4,
  "nbformat_minor": 0,
  "metadata": {
    "colab": {
      "provenance": []
    },
    "kernelspec": {
      "name": "python3",
      "display_name": "Python 3"
    },
    "language_info": {
      "name": "python"
    }
  },
  "cells": [
    {
      "cell_type": "markdown",
      "source": [
        "## Codigo para extraer Datos de la calidad del aire"
      ],
      "metadata": {
        "id": "GK5elJatPRL-"
      }
    },
    {
      "cell_type": "code",
      "source": [
        "# Importar librerias\n",
        "import pandas as pd\n",
        "import requests\n",
        "from typing import Set\n",
        "import sqlite3\n",
        "import json"
      ],
      "metadata": {
        "id": "oSjTalzDPnFW"
      },
      "execution_count": 1,
      "outputs": []
    },
    {
      "cell_type": "code",
      "execution_count": null,
      "metadata": {
        "colab": {
          "base_uri": "https://localhost:8080/"
        },
        "id": "JP6ZRoqN4PG_",
        "outputId": "ceea6a25-c125-44c0-f036-cdd9db045316"
      },
      "outputs": [
        {
          "output_type": "stream",
          "name": "stdout",
          "text": [
            "Error: 400 {\"error\": \"Could not find city.\"}\n",
            "Error: 400 {\"error\": \"Could not find city.\"}\n",
            "Error: 400 {\"error\": \"Could not find city.\"}\n",
            "Error: 400 {\"error\": \"Could not find city.\"}\n",
            "Error: 400 {\"error\": \"Could not find city.\"}\n",
            "Error: 400 {\"error\": \"Could not find city.\"}\n",
            "Error: 400 {\"error\": \"Could not find city.\"}\n",
            "Error: 502 {\"message\": \"Internal server error\"}\n",
            "Error: 502 {\"message\": \"Internal server error\"}\n",
            "Error: 502 {\"message\": \"Internal server error\"}\n",
            "Error: 400 {\"error\": \"Could not find city.\"}\n",
            "Error: 400 {\"error\": \"Could not find city.\"}\n",
            "Error: 400 {\"error\": \"Could not find city.\"}\n",
            "Error: 400 {\"error\": \"Could not find city.\"}\n",
            "Error: 400 {\"error\": \"Could not find city.\"}\n",
            "Error: 400 {\"error\": \"API throttled. Please try again in a minute.\"}\n",
            "Error: 400 {\"error\": \"API throttled. Please try again in a minute.\"}\n",
            "Error: 400 {\"error\": \"Could not find city.\"}\n",
            "Error: 400 {\"error\": \"API throttled. Please try again in a minute.\"}\n",
            "Error: 400 {\"error\": \"API throttled. Please try again in a minute.\"}\n",
            "Error: 400 {\"error\": \"API throttled. Please try again in a minute.\"}\n",
            "Error: 502 {\"message\": \"Internal server error\"}\n",
            "Error: 400 {\"error\": \"Could not find city.\"}\n",
            "Error: 400 {\"error\": \"API throttled. Please try again in a minute.\"}\n",
            "Error: 400 {\"error\": \"API throttled. Please try again in a minute.\"}\n",
            "Error: 400 {\"error\": \"API throttled. Please try again in a minute.\"}\n",
            "Error: 400 {\"error\": \"Could not find city.\"}\n",
            "Error: 400 {\"error\": \"Could not find city.\"}\n",
            "Error: 400 {\"error\": \"API throttled. Please try again in a minute.\"}\n",
            "Error: 400 {\"error\": \"API throttled. Please try again in a minute.\"}\n",
            "Error: 400 {\"error\": \"API throttled. Please try again in a minute.\"}\n",
            "Error: 400 {\"error\": \"API throttled. Please try again in a minute.\"}\n",
            "Error: 400 {\"error\": \"Could not find city.\"}\n",
            "Error: 400 {\"error\": \"Could not find city.\"}\n"
          ]
        }
      ],
      "source": [
        "#Carga los datos demográficos\n",
        "\n",
        "def ej_1_cargar_datos_demograficos() -> pd.DataFrame:\n",
        "    datos_demograficos = pd.DataFrame()\n",
        "    url = \"https://public.opendatasoft.com/explore/dataset/us-cities-demographics/download/?format=csv&timezone=America/New_York&use_labels_for_header=true\"\n",
        "    datos_demograficos = pd.read_csv(url, sep=';')\n",
        "    return datos_demograficos\n",
        "\n",
        "#Parsea los datos de calidad del aire\n",
        "\n",
        "def ej_2_cargar_calidad_aire(data: pd.DataFrame) -> None:\n",
        "    resultado = []\n",
        "    overall_aqit = []\n",
        "    city_list = datos_demograficos['City']\n",
        "    city_lit=[]\n",
        "    for city in city_list:\n",
        "        api_url = f'https://api.api-ninjas.com/v1/airquality?city={city}'\n",
        "        response = requests.get(api_url, headers={'X-Api-Key': 'tnAXTjhGJUF9FCVvRZqenQ==A8xoElsrHq8rJZ3h'})\n",
        "        dimensiones = []\n",
        "        if response.status_code == requests.codes.ok:\n",
        "            city_res=response.json()\n",
        "            for clave, valor in city_res.items():\n",
        "                if clave != \"overall_aqi\":\n",
        "                    if clave != \"overall_aqi\":\n",
        "                        del valor['aqi']\n",
        "                        dimensiones.append(valor['concentration'])\n",
        "            if clave == \"overall_aqi\":\n",
        "                overall_aqi= city_res['overall_aqi']\n",
        "                overall_aqit.append(overall_aqi)\n",
        "            resultado.append(dimensiones)\n",
        "            city_lit.append(city)\n",
        "        else:\n",
        "            print(\"Error:\", response.status_code, response.text)\n",
        "    city_lit= pd.DataFrame(city_lit)\n",
        "    city_lit = city_lit.rename(columns={0:'City'})\n",
        "    resultado = pd.DataFrame(resultado)\n",
        "    resultado = resultado.rename(columns={0:'CO', 1:'NO2', 2:'O3', 3:'SO2', 4:'PM2.5', 5:'PM10'})\n",
        "    overall_aqit = pd.DataFrame(overall_aqit)\n",
        "    overall_aqit = overall_aqit.rename(columns={0:'overall_aqi'})\n",
        "    base = pd.concat([city_lit, resultado, overall_aqit], axis=1)\n",
        "    base.set_index('City', inplace=True)\n",
        "    base.to_csv('ciudades.csv')\n",
        "    return base\n",
        "\n",
        "\n",
        "datos_demograficos = ej_1_cargar_datos_demograficos()\n",
        "ciudades = set(datos_demograficos['City'].to_list())\n",
        "ciudades_lista = list(ciudades)\n",
        "calidad_aire_df = ej_2_cargar_calidad_aire(ciudades_lista)\n"
      ]
    },
    {
      "cell_type": "code",
      "source": [
        "# Se realiza la limpieza de los datos demograficos\n",
        "\n",
        "poblacion= datos_demograficos.drop(columns=[\"Race\", \"Count\", \"Number of Veterans\"]).drop_duplicates().reset_index(drop=True)\n",
        "poblacion.to_csv('poblacion.csv', index=False)"
      ],
      "metadata": {
        "id": "15GQ_zTJP-JM"
      },
      "execution_count": null,
      "outputs": []
    },
    {
      "cell_type": "code",
      "source": [
        "# Se realiza el cargue de los CSV de población y ciudades en una base de datos para su posterior analisis\n",
        "\n",
        "ciudades = pd.read_csv('ciudades.csv')\n",
        "poblacion = pd.read_csv('poblacion.csv')\n",
        "conn = sqlite3.connect('analisis_de_aire.db')\n",
        "ciudades.to_sql('ciudades', conn, if_exists='replace', index=False)\n",
        "poblacion.to_sql('poblacion', conn, if_exists='replace', index=False)\n",
        "conn.close()"
      ],
      "metadata": {
        "id": "ntWt1I2bPjcJ"
      },
      "execution_count": 2,
      "outputs": []
    },
    {
      "cell_type": "code",
      "source": [
        "# se realiza la consulta\n",
        "conn = sqlite3.connect('analisis_de_aire.db')\n",
        "cursor = conn.execute(\"SELECT poblacion.city, poblacion.'Total population', ciudades.'overall_aqi' FROM poblacion INNER JOIN ciudades ON poblacion.city = ciudades.city ORDER BY  'Total population' DESC LIMIT 10; \")\n",
        "filas = cursor.fetchall()\n",
        "for fila in filas:\n",
        "    print(fila)"
      ],
      "metadata": {
        "colab": {
          "base_uri": "https://localhost:8080/"
        },
        "id": "SYOtne2XTq83",
        "outputId": "484012fe-9521-47a2-98b4-58975adcf665"
      },
      "execution_count": 3,
      "outputs": [
        {
          "output_type": "stream",
          "name": "stdout",
          "text": [
            "('Denver', 682545, 59)\n",
            "('Denver', 682545, 59)\n",
            "('Denver', 682545, 59)\n",
            "('Denver', 682545, 59)\n",
            "('Denver', 682545, 59)\n",
            "('Provo', 115258, 41)\n",
            "('Provo', 115258, 41)\n",
            "('Provo', 115258, 41)\n",
            "('Provo', 115258, 42)\n",
            "('Provo', 115258, 42)\n"
          ]
        }
      ]
    }
  ]
}